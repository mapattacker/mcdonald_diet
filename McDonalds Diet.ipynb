{
 "cells": [
  {
   "cell_type": "markdown",
   "metadata": {},
   "source": [
    "* Scrape McDonald's and get nutritional values\n",
    "* Download images and rename them sequentially"
   ]
  },
  {
   "cell_type": "code",
   "execution_count": 208,
   "metadata": {
    "collapsed": true
   },
   "outputs": [],
   "source": [
    "import urllib.request\n",
    "from selenium import webdriver\n",
    "from bs4 import BeautifulSoup\n",
    "import pandas as pd\n",
    "import time\n",
    "import os\n",
    "import sys"
   ]
  },
  {
   "cell_type": "code",
   "execution_count": 52,
   "metadata": {
    "collapsed": true
   },
   "outputs": [],
   "source": [
    "link = 'https://www.mcdonalds.com.sg/nutrition-calculator/#'\n",
    "imagefolder = r'/Users/x/Desktop/notebooks/mcdonalds'\n",
    "total = 124\n",
    "chromedriver = r'/Users/x/x/Scripts/MyPythonScripts/chromedriver_mac235'"
   ]
  },
  {
   "cell_type": "code",
   "execution_count": 210,
   "metadata": {
    "scrolled": false
   },
   "outputs": [
    {
     "name": "stdout",
     "output_type": "stream",
     "text": [
      "1 Big Breakfast® 525kcal 27g 25g 7g 445mg 49g 5g 970mg\n",
      "2 Breakfast Deluxe 826kcal 31g 32g 10.6g 486mg 104g 6g 1120mg\n",
      "3 Wholegrain Chicken Muffin 401kcal 17g 20g 5.7g 151mg 38g 3g 860mg\n",
      "4 Wholegrain Egg McMuffin® 288kcal 18g 11g 5g 335mg 29g 3g 600mg\n",
      "5 Hotcakes 557kcal 9g 18g 5.8g 20mg 91g 3g 680mg\n",
      "6 Hotcakes with Sausage 640kcal 16g 23g 7.4g 51mg 92g 4g 970mg\n",
      "7 nothing found! line: 19\n",
      "8 Wholegrain Sausage McMuffin™ 277kcal 16g 11g 5g 141mg 29g 3g 670mg\n",
      "9 Wholegrain Sausage McMuffin™ with Egg 356kcal 23g 16g 6.6g 362mg 30g 3g 750mg\n",
      "10 nothing found! line: 19\n",
      "11 nothing found! line: 19\n",
      "12 Filet-O-Fish® 332kcal 15g 13g 3.5g 90mg 38g 2g 570mg\n",
      "13 Double Filet-O-Fish® 474kcal 24g 21g 5.6g 170mg 48g 3g 790mg\n",
      "14 Hashbrown 149kcal 1g 8g 1.3g 0mg 17g 1g 350mg\n",
      "15 Apple Slices 30kcal 0g 0g 0g 1mg 7g 1g 20mg\n",
      "16 Corn Cup - 3oz 66kcal 2g 1g 0.2g 0mg 12g 2g 70mg\n",
      "17 Corn Cup - 4.5oz 100kcal 4g 1g 0.3g 0mg 18g 3g 100mg\n",
      "18 100% Pure Orange Juice - Small 145kcal 2g 0g 0g 0mg 34g 0g 0mg\n",
      "19 100% Pure Orange Juice - Medium 184kcal 2g 0g 0g 0mg 43g 0g 0mg\n",
      "20 Caramel Frappé - Regular 454kcal 3g 17g 2.7g 43mg 64g 0g 90mg\n",
      "21 Caramel Frappé - Medium 624kcal 5g 23g 2.7g 60mg 87g 0g 120mg\n",
      "22 Coca-Cola® - X-Small 100kcal 0g 0g 0g 0mg 25g 0g 0mg\n",
      "23 Coca-Cola® - Small 153kcal 0g 0g 0g 0mg 39g 0g 10mg\n",
      "24 Coca-Cola® - Medium 213kcal 0g 0g 0g 0mg 54g 0g 10mg\n",
      "25 Coca-Cola® - Large 305kcal 0g 0g 0g 0mg 77g 0g 10mg\n",
      "26 Coca-Cola ZeroTM - X-Small 0kcal 0g 0g 0g 0mg 0g 0g 0mg\n",
      "27 Coca-Cola ZeroTM - Small 0kcal 0g 0g 0g 0mg 0g 0g 0mg\n",
      "28 Coca-Cola ZeroTM - Medium 0kcal 0g 0g 0g 0mg 0g 0g 0mg\n",
      "29 Coca-Cola ZeroTM - Large 0kcal 0g 0g 0g 0mg 0g 0g 0mg\n",
      "30 Dasani® Drinking Water 0kcal 0g 0g 0g 0mg 0g 0g 0mg\n",
      "31 Hot MILO® 200kcal 4g 4g 2.7g 2mg 36g 1g 100mg\n",
      "32 Hot Tea 4kcal 1g 0g 0g 0mg 0g 0g 0mg\n",
      "33 Iced Lemon Tea - Small 153kcal 0g 0g 0g 4mg 38g 0g 30mg\n",
      "34 Iced Lemon Tea - Medium 213kcal 0g 0g 0.1g 5mg 53g 0g 40mg\n",
      "35 French Fries - Small 283kcal 4g 14g 2.1g 0mg 37g 2g 190mg\n",
      "36 French Fries - Medium 346kcal 4g 17g 2.5g 0mg 45g 3g 240mg\n",
      "37 French Fries - Large 461kcal 6g 22g 3.4g 0mg 60g 3g 310mg\n",
      "38 Iced MILO® - X-Small 120kcal 5g 3g 1.2g 0mg 18g 0g 60mg\n",
      "39 Iced MILO® - Small 228kcal 10g 6g 2.3g 0mg 34g 0g 110mg\n",
      "40 Iced MILO® - Medium 322kcal 14g 8g 3.2g 0mg 49g 0g 160mg\n",
      "41 Jasmine Green Tea - Small 95kcal 0g 0g 0g 0mg 23g 0g 20mg\n",
      "42 Jasmine Green Tea - Medium 132kcal 0g 0g 0g 0mg 32g 0g 30mg\n",
      "43 Magnolia Lo-Fat Hi-Calcium Milk 95kcal 8g 2g 1.4g 13mg 10g 0g 90mg\n",
      "44 nothing found! line: 19\n",
      "45 nothing found! line: 19\n",
      "46 nothing found! line: 19\n",
      "47 nothing found! line: 19\n",
      "48 McCafé® Cappuccino - Small 120kcal 6g 7g 4.3g 26mg 8g 0g 70mg\n",
      "49 McCafé® Cappuccino - Medium 170kcal 9g 10g 6.1g 37mg 12g 0g 110mg\n",
      "50 McCafé® Premium Roast Coffee 14kcal 3g 0g 0g 0mg 0g 0g 0mg\n",
      "51 McCafé® Latte 186kcal 10g 11g 6.7g 40mg 13g 0g 120mg\n",
      "52 Mocha Frappé - Regular 445kcal 4g 17g 7.2g 43mg 42g 2g 90mg\n",
      "53 Mocha Frappé - Medium 616kcal 5g 23g 9.4g 59mg 60g 2g 120mg\n",
      "54 Ribena® Less Sweet 74kcal 2g 0g 0g 0mg 16g 0g 0mg\n",
      "55 Sprite® - X-Small 109kcal 0g 0g 0g 0mg 27g 0g 20mg\n",
      "56 Sprite® - Small 167kcal 0g 0g 0g 0mg 41g 0g 30mg\n",
      "57 Sprite® - Medium 233kcal 0g 0g 0g 0mg 57g 0g 40mg\n",
      "58 Sprite® - Large 334kcal 0g 0g 0g 0mg 82g 0g 60mg\n",
      "59 Chocolate Shake 405kcal 8g 9g 4.5g 8mg 72g 1g 230mg\n",
      "60 Strawberry Shake 400kcal 8g 9g 4g 8mg 72g 0g 150mg\n",
      "61 Vanilla Shake 397kcal 8g 9g 4.5g 8mg 71g 0g 150mg\n",
      "62 Hot Fudge Sundae 343kcal 5g 11g 6.7g 5mg 57g 1g 200mg\n",
      "63 Strawberry Sundae 285kcal 3g 7g 3.3g 3mg 53g 0g 110mg\n",
      "64 Garden Side Salad 21kcal 1g 0g 0g 0mg 4g 1g 10mg\n",
      "65 Skinless Grilled Chicken McWrap (Wholegrain) 337.6kcal 22g 16g 4.2g 81.9mg 26.4g 1.9g 889mg\n",
      "66 Skinless Grilled Chicken Salad 161kcal 19g 6g 1.6g 77mg 7g 1g 510mg\n",
      "67 nothing found! line: 19\n",
      "68 Big Mac® 522kcal 28g 26g 10.4g 178mg 43g 3g 970mg\n",
      "69 Cheeseburger 300kcal 17g 12g 6.1g 141mg 32g 2g 710mg\n",
      "70 Double Cheeseburger 440kcal 28g 22g 11.6g 280mg 32g 2g 1060mg\n",
      "71 Chicken McNuggets® - 6pc 303kcal 16g 19g 3.2g 59mg 18g 0g 520mg\n",
      "72 Chicken McNuggets® - 9pc 454kcal 24g 28g 4.8g 88mg 27g 0g 780mg\n",
      "73 Chicken McNuggets® - 20pc 1009kcal 53g 62g 10.6g 197mg 59g 0g 1740mg\n",
      "74 Chicken McNuggets™ (4pc) Happy Meal 226kcal 12g 14g 2.4g 44mg 13g 0g 390mg\n",
      "75 Hamburger 252kcal 14g 8g 3.5g 29mg 32g 2g 530mg\n",
      "76 McChicken® 385kcal 15g 17g 3.2g 41mg 43g 3g 760mg\n",
      "77 nothing found! line: 19\n",
      "78 McSpicy® 522kcal 24g 25g 5.1g 75mg 50g 3g 1280mg\n",
      "79 Double McSpicy® 800kcal 42g 41g 8.3g 140mg 65g 4g 2160mg\n",
      "80 McWings® 498kcal 31g 32g 6.6g 165mg 21g 2g 1130mg\n",
      "81 nothing found! line: 19\n",
      "82 nothing found! line: 19\n",
      "83 Apple Pie 247kcal 2g 15g 4.1g 1mg 26g 1g 145mg\n",
      "84 Cinnamon Melts 480kcal 5g 20g 9.1g 25mg 69g 3g 370mg\n",
      "85 McFlurry® Oreo® 402kcal 6g 14g 6.7g 4mg 64g 1g 260mg\n",
      "86 Vanilla Cone 147kcal 2g 4g 2g 2mg 25g 0g 70mg\n",
      "87 nothing found! line: 19\n",
      "88 nothing found! line: 19\n",
      "89 nothing found! line: 19\n",
      "90 Wholegrain Sausage McMuffin™ Delight 500 Meal 357kcal 21g 12g 5.2g 141mg 41g 5g 740mg\n",
      "91 nothing found! line: 19\n",
      "92 Wholegrain Egg McMuffin® Delight 500 Meal 368kcal 23g 12g 5.2g 335mg 41g 5g 670mg\n",
      "93 Wholegrain Sausage McMuffin™ with Egg Delight 500 Meal 436kcal 28g 17g 6.8g 362mg 42g 5g 820mg\n",
      "94 Wholegrain Chicken Muffin Delight 500 Meal 481kcal 22g 21g 5.9g 151mg 50g 5g 930mg\n",
      "95 nothing found! line: 19\n",
      "96 Cheeseburger Delight 500 Meal with Dasani Water 396kcal 21g 13g 6.4g 141mg 50g 5g 810mg\n",
      "97 nothing found! line: 19\n",
      "98 McChicken® Delight 500 Meal with Dasani Water 483kcal 19g 18g 3.5g 41mg 61g 6g 860mg\n",
      "99 nothing found! line: 19\n",
      "100 Grilled Chicken McWrap Garden Side Salad + Dasani® Bottled Water 426kcal 25g 18g 5.2g 82mg 41g 4g 1060mg\n",
      "101 nothing found! line: 19\n",
      "102 nothing found! line: 19\n",
      "103 nothing found! line: 19\n",
      "104 nothing found! line: 19\n",
      "105 nothing found! line: 19\n",
      "106 nothing found! line: 19\n",
      "107 nothing found! line: 19\n",
      "108 nothing found! line: 19\n",
      "109 nothing found! line: 19\n",
      "110 nothing found! line: 19\n",
      "111 nothing found! line: 19\n",
      "112 Grilled Chicken Salad Delight 500 Meal with Coca-Cola ZeroTM 261kcal 23g 7g 1.9g 77mg 25g 4g 610mg\n",
      "113 Hotcakes (2pc) Happy Meal® 442kcal 6g 15g 5.2g 14mg 71g 2g 500mg\n",
      "114 nothing found! line: 19\n",
      "115 Mango Peach Chiller  200kcal 2g 0g 0g 1mg 48g 0g 20mg\n",
      "116 nothing found! line: 19\n",
      "117 nothing found! line: 19\n",
      "118 MudPie McFlurry 532kcal 7g 18g 10.2g 6mg 85g 1g 350mg\n",
      "119 Strawberry Shortcake McFlurry  474kcal 6g 14g 6.7g 9mg 82g 1g 270mg\n",
      "120 ChocoCone® 295.6kcal 2.8g 16.6g 10.6g 1.7mg 33.7g 0.8g 80.9mg\n",
      "121  Breakfast Wrap Chicken Ham 429.8kcal 23.7g 25.1g 8.7g 514.7mg 42.2g 2.5g 1223.7mg\n",
      "122 Breakfast Wrap Chicken Sausage 493kcal 27.9g 30g 10.1g 528.2mg 42.6g 3g 1367.7mg\n",
      "123 Filet-O-Fish® Meal with Dasani Water 421kcal 19g 14g 3.8g 90mg 56g 5g 670mg\n",
      "124 Red Rice Porridge 150kcal 3.9g 2.8g 0.3g 2.5mg 25.2g 2.8g 768mg\n"
     ]
    }
   ],
   "source": [
    "df = pd.DataFrame()\n",
    "\n",
    "for i in range(1,total+1):\n",
    "    try:\n",
    "        url = link + str(i)\n",
    "        driver=webdriver.Chrome(chromedriver)\n",
    "        driver.get(url)\n",
    "\n",
    "        # refresh to remove popup window ---------\n",
    "        time.sleep(1)\n",
    "        driver.refresh()\n",
    "        time.sleep(1)\n",
    "        html = driver.page_source\n",
    "\n",
    "        # cook in soup ---------\n",
    "        soup = BeautifulSoup(html, 'html.parser')\n",
    "\n",
    "        # download image ---------\n",
    "        img_tag = soup.select(\".foodfact-conf-item-thumb > img\")[0]\n",
    "        name = img_tag.get('alt').strip()\n",
    "        img = img_tag.get('src')\n",
    "        urllib.request.urlretrieve(img, \"{}/{}.png\".format(imagefolder,name))\n",
    "\n",
    "        # record name, nutritional facts ---------\n",
    "        nutrition = soup.select('.fact-value')\n",
    "        energy = nutrition[0].getText()\n",
    "        protein = nutrition[1].getText()\n",
    "        totalfat = nutrition[2].getText()\n",
    "        saturatedfat = nutrition[3].getText()\n",
    "        cholesterol = nutrition[4].getText()\n",
    "        carbo = nutrition[5].getText()\n",
    "        fibers = nutrition[6].getText()\n",
    "        sodium = nutrition[7].getText()\n",
    "\n",
    "        # append data to dataframe\n",
    "        df = df.append({'item':name, 'energy':energy, 'total_fat':totalfat, 'saturated_fat':saturatedfat, \\\n",
    "                        'cholesterol':cholesterol, 'carbohydrates':carbo, 'dietary_fibers': fibers, 'sodium':sodium}, \\\n",
    "                        ignore_index=True)\n",
    "\n",
    "        print(i, name, energy, protein, totalfat, saturatedfat, cholesterol, carbo, fibers, sodium)\n",
    "    except:\n",
    "        print(i, 'nothing found!', 'line:', sys.exc_info()[2].tb_lineno)\n",
    "    \n",
    "    driver.close()"
   ]
  },
  {
   "cell_type": "code",
   "execution_count": 211,
   "metadata": {
    "collapsed": true
   },
   "outputs": [],
   "source": [
    "df = df[['item', 'energy', 'total_fat', 'saturated_fat', 'cholesterol', \\\n",
    "          'carbohydrates', 'dietary_fibers', 'sodium']]\n",
    "df2 = df.copy()"
   ]
  },
  {
   "cell_type": "markdown",
   "metadata": {},
   "source": [
    "### Process Data"
   ]
  },
  {
   "cell_type": "code",
   "execution_count": 212,
   "metadata": {
    "collapsed": true
   },
   "outputs": [],
   "source": [
    "# clear whitespace & change values to float\n",
    "df2['cholesterol_mg'] = df2['cholesterol'].apply(lambda x: x.replace('mg','').strip())\n",
    "df2['sodium_mg'] = df2['sodium'].apply(lambda x: x.replace('mg','').strip())\n",
    "df2['energy_kcal'] = df2['energy'].apply(lambda x: x.replace('kcal','').strip())\n",
    "df2['total_fat_g'] = df2['total_fat'].apply(lambda x: x.replace('g','').strip())\n",
    "df2['saturated_fat_g'] = df2['saturated_fat'].apply(lambda x: x.replace('g','').strip())\n",
    "df2['carbohydrates_g'] = df2['carbohydrates'].apply(lambda x: x.replace('g','').strip())\n",
    "df2['dietary_fibers_g'] = df2['dietary_fibers'].apply(lambda x: x.replace('g','').strip())"
   ]
  },
  {
   "cell_type": "code",
   "execution_count": 213,
   "metadata": {},
   "outputs": [
    {
     "data": {
      "text/html": [
       "<div>\n",
       "<style scoped>\n",
       "    .dataframe tbody tr th:only-of-type {\n",
       "        vertical-align: middle;\n",
       "    }\n",
       "\n",
       "    .dataframe tbody tr th {\n",
       "        vertical-align: top;\n",
       "    }\n",
       "\n",
       "    .dataframe thead th {\n",
       "        text-align: right;\n",
       "    }\n",
       "</style>\n",
       "<table border=\"1\" class=\"dataframe\">\n",
       "  <thead>\n",
       "    <tr style=\"text-align: right;\">\n",
       "      <th></th>\n",
       "      <th>index</th>\n",
       "      <th>item</th>\n",
       "      <th>energy</th>\n",
       "      <th>total_fat</th>\n",
       "      <th>saturated_fat</th>\n",
       "      <th>cholesterol</th>\n",
       "      <th>carbohydrates</th>\n",
       "      <th>dietary_fibers</th>\n",
       "      <th>sodium</th>\n",
       "      <th>cholesterol_mg</th>\n",
       "      <th>sodium_mg</th>\n",
       "      <th>energy_kcal</th>\n",
       "      <th>total_fat_g</th>\n",
       "      <th>saturated_fat_g</th>\n",
       "      <th>carbohydrates_g</th>\n",
       "      <th>dietary_fibers_g</th>\n",
       "    </tr>\n",
       "  </thead>\n",
       "  <tbody>\n",
       "    <tr>\n",
       "      <th>0</th>\n",
       "      <td>1</td>\n",
       "      <td>100% Pure Orange Juice - Medium</td>\n",
       "      <td>184kcal</td>\n",
       "      <td>0g</td>\n",
       "      <td>0g</td>\n",
       "      <td>0mg</td>\n",
       "      <td>43g</td>\n",
       "      <td>0g</td>\n",
       "      <td>0mg</td>\n",
       "      <td>0</td>\n",
       "      <td>0</td>\n",
       "      <td>184</td>\n",
       "      <td>0</td>\n",
       "      <td>0</td>\n",
       "      <td>43</td>\n",
       "      <td>0</td>\n",
       "    </tr>\n",
       "    <tr>\n",
       "      <th>1</th>\n",
       "      <td>2</td>\n",
       "      <td>100% Pure Orange Juice - Small</td>\n",
       "      <td>145kcal</td>\n",
       "      <td>0g</td>\n",
       "      <td>0g</td>\n",
       "      <td>0mg</td>\n",
       "      <td>34g</td>\n",
       "      <td>0g</td>\n",
       "      <td>0mg</td>\n",
       "      <td>0</td>\n",
       "      <td>0</td>\n",
       "      <td>145</td>\n",
       "      <td>0</td>\n",
       "      <td>0</td>\n",
       "      <td>34</td>\n",
       "      <td>0</td>\n",
       "    </tr>\n",
       "  </tbody>\n",
       "</table>\n",
       "</div>"
      ],
      "text/plain": [
       "   index                             item   energy total_fat saturated_fat  \\\n",
       "0      1  100% Pure Orange Juice - Medium  184kcal        0g            0g   \n",
       "1      2   100% Pure Orange Juice - Small  145kcal        0g            0g   \n",
       "\n",
       "  cholesterol carbohydrates dietary_fibers sodium cholesterol_mg sodium_mg  \\\n",
       "0         0mg           43g             0g    0mg              0         0   \n",
       "1         0mg           34g             0g    0mg              0         0   \n",
       "\n",
       "  energy_kcal total_fat_g saturated_fat_g carbohydrates_g dietary_fibers_g  \n",
       "0         184           0               0              43                0  \n",
       "1         145           0               0              34                0  "
      ]
     },
     "execution_count": 213,
     "metadata": {},
     "output_type": "execute_result"
    }
   ],
   "source": [
    "# sort by item so that can sort/match custom logos properly in Tableau\n",
    "df2=df2.sort_values('item')\n",
    "df2=df2.reset_index(drop=True).reset_index()\n",
    "df2['index'] = df2['index'] + 1\n",
    "df2.head(2)"
   ]
  },
  {
   "cell_type": "code",
   "execution_count": 214,
   "metadata": {},
   "outputs": [
    {
     "name": "stderr",
     "output_type": "stream",
     "text": [
      "/Users/siyang/anaconda3/lib/python3.6/site-packages/ipykernel_launcher.py:5: SettingWithCopyWarning: \n",
      "A value is trying to be set on a copy of a slice from a DataFrame.\n",
      "Try using .loc[row_indexer,col_indexer] = value instead\n",
      "\n",
      "See the caveats in the documentation: http://pandas.pydata.org/pandas-docs/stable/indexing.html#indexing-view-versus-copy\n",
      "  \"\"\"\n"
     ]
    }
   ],
   "source": [
    "# set all columns to float type\n",
    "df3 = df2[['index', 'item', 'energy_kcal', 'total_fat_g', 'saturated_fat_g', \\\n",
    "           'cholesterol_mg', 'carbohydrates_g', 'dietary_fibers_g', 'sodium_mg']]\n",
    "\n",
    "for col in df3.columns[2:]:\n",
    "    df3[col] = df3[col].astype(float)"
   ]
  },
  {
   "cell_type": "code",
   "execution_count": 215,
   "metadata": {},
   "outputs": [
    {
     "data": {
      "text/plain": [
       "index                 int64\n",
       "item                 object\n",
       "energy_kcal         float64\n",
       "total_fat_g         float64\n",
       "saturated_fat_g     float64\n",
       "cholesterol_mg      float64\n",
       "carbohydrates_g     float64\n",
       "dietary_fibers_g    float64\n",
       "sodium_mg           float64\n",
       "dtype: object"
      ]
     },
     "execution_count": 215,
     "metadata": {},
     "output_type": "execute_result"
    }
   ],
   "source": [
    "df3.dtypes"
   ]
  },
  {
   "cell_type": "code",
   "execution_count": 216,
   "metadata": {
    "collapsed": true
   },
   "outputs": [],
   "source": [
    "df3.to_excel('mac.xlsx',index=False)"
   ]
  },
  {
   "cell_type": "markdown",
   "metadata": {},
   "source": [
    "### Number Each Item Image Sequentially"
   ]
  },
  {
   "cell_type": "code",
   "execution_count": 243,
   "metadata": {
    "scrolled": true
   },
   "outputs": [
    {
     "name": "stdout",
     "output_type": "stream",
     "text": [
      "all images renamed\n"
     ]
    }
   ],
   "source": [
    "tableau_folder = '/Users/x/Documents/My Tableau Repository/Shapes/Mac'\n",
    "for i in os.listdir(tableau_folder):\n",
    "    if i.endswith('.png'):\n",
    "        item = i.replace('.png','')\n",
    "        try:\n",
    "            index = df3[df3['item']==item]['index'].tolist()[0]\n",
    "            index = str(index).zfill(3)\n",
    "            os.rename(os.path.join(tableau_folder,i), os.path.join(tableau_folder,'{}_{}'.format(index,i)))\n",
    "        except:\n",
    "            pass\n",
    "        \n",
    "print('all images renamed')"
   ]
  }
 ],
 "metadata": {
  "kernelspec": {
   "display_name": "Python 3",
   "language": "python",
   "name": "python3"
  },
  "language_info": {
   "codemirror_mode": {
    "name": "ipython",
    "version": 3
   },
   "file_extension": ".py",
   "mimetype": "text/x-python",
   "name": "python",
   "nbconvert_exporter": "python",
   "pygments_lexer": "ipython3",
   "version": "3.6.3"
  }
 },
 "nbformat": 4,
 "nbformat_minor": 2
}
